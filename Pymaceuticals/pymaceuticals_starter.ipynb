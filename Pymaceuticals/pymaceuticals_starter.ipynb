{
 "cells": [
  {
   "attachments": {},
   "cell_type": "markdown",
   "metadata": {},
   "source": [
    "# Pymaceuticals Inc.\n",
    "---\n",
    "\n",
    "### Analysis\n",
    "\n",
    "Observations \n",
    "- Out of all the drugs tested Capomulin had the most impact on shrinking the tumors in the mice subjects, the same applies to Ramicane. This makes it possible to conclude that these two treatments were in one way or the other more effective in controlling/ reducing the tumor growth than the remaining drugs used in the study.\n",
    "\n",
    "- Comparing the results for the values, Capomulin, and Ramicane show similar results in the decrease of tumor volume and, definitely, yield better results than Infubinol and Ceftamine do. This conclusion was made after analyzing the final tumor volumes result arising from box plots and it was observed that Capomulin was comparable to Ramicane in handling this cancer type better than Infubinol and Ceftamine.\n",
    " \n",
    "- If further analysis of the mouse weight and the drug effectiveness were to be made, then it could be seen that the two variables are negatively correlated between the two. When analyzed using the linear regression analysis the result gets a high r-value of 0. 95, which shows a positive relationship between these variables. This implies that as the weight in mice increases the effectiveness of the drug decreases."
   ]
  },
  {
   "cell_type": "code",
   "execution_count": null,
   "metadata": {},
   "outputs": [],
   "source": [
    "# Dependencies and Setup\n",
    "import matplotlib.pyplot as plt\n",
    "import pandas as pd\n",
    "import scipy.stats as st\n",
    "\n",
    "# Added additional Dependencies \n",
    "import numpy as np\n",
    "from scipy.stats import linregress\n",
    "\n",
    "# Study data files\n",
    "mouse_metadata_path = (r'C:/Users/jcath/OneDrive/Desktop/GWU/Module 5 Challenge/Pymaceuticals/data/Mouse_metadata.csv')\n",
    "study_results_path = (r'C:/Users/jcath/OneDrive/Desktop/GWU/Module 5 Challenge/Pymaceuticals/data/Study_results.csv')\n",
    "\n",
    "# Read the mouse data and the study results\n",
    "mouse_metadata = pd.read_csv(mouse_metadata_path)\n",
    "study_results = pd.read_csv(study_results_path)\n",
    "\n",
    "# Combine the data into a single DataFrame\n",
    "merge_df = pd.merge(mouse_metadata, study_results, how=\"outer\", on=\"Mouse ID\")\n",
    "\n",
    "# Display the data table for preview\n",
    "merge_df.head()\n"
   ]
  },
  {
   "cell_type": "code",
   "execution_count": null,
   "metadata": {},
   "outputs": [],
   "source": [
    "# Checking the number of mice.\n",
    "mice_count = merge_df[\"Mouse ID\"].unique().size\n",
    "mice_count"
   ]
  },
  {
   "cell_type": "code",
   "execution_count": null,
   "metadata": {},
   "outputs": [],
   "source": [
    "# Our data should be uniquely identified by Mouse ID and Timepoint\n",
    "# Get the duplicate mice by ID number that shows up for Mouse ID and Timepoint.\n",
    "duplicate_mouse = merge_df[merge_df.duplicated(subset=['Mouse ID', 'Timepoint'])]\n",
    "duplicate_mouse"
   ]
  },
  {
   "cell_type": "code",
   "execution_count": null,
   "metadata": {},
   "outputs": [],
   "source": [
    "# Optional: Get all the data for the duplicate mouse ID.\n",
    "duplicate_mice = merge_df.loc[merge_df[\"Mouse ID\"] == \"g989\", :]\n",
    "duplicate_mice"
   ]
  },
  {
   "cell_type": "code",
   "execution_count": null,
   "metadata": {},
   "outputs": [],
   "source": [
    "# Create a clean DataFrame by dropping the duplicate mouse by its ID.\n",
    "clean_mice = merge_df[merge_df[\"Mouse ID\"] != \"g989\"]\n",
    "clean_mice\n"
   ]
  },
  {
   "cell_type": "code",
   "execution_count": null,
   "metadata": {},
   "outputs": [],
   "source": [
    "# Checking the number of mice in the clean DataFrame.\n",
    "num_mice = merge_df[\"Mouse ID\"].nunique()\n",
    "num_mice"
   ]
  },
  {
   "cell_type": "markdown",
   "metadata": {},
   "source": [
    "## Summary Statistics"
   ]
  },
  {
   "cell_type": "code",
   "execution_count": null,
   "metadata": {},
   "outputs": [],
   "source": [
    "# Generate a summary statistics table of mean, median, variance, standard deviation, and SEM of the tumor volume for each regimen\n",
    "\n",
    "# Use groupby and summary statistical methods to calculate the following properties of each drug regimen:\n",
    "# mean, median, variance, standard deviation, and SEM of the tumor volume.\n",
    "mean = merge_df['Tumor Volume (mm3)'].groupby(merge_df['Drug Regimen']).mean()\n",
    "median = merge_df['Tumor Volume (mm3)'].groupby(merge_df['Drug Regimen']).median()\n",
    "var = merge_df['Tumor Volume (mm3)'].groupby(merge_df['Drug Regimen']).var()\n",
    "std = merge_df['Tumor Volume (mm3)'].groupby(merge_df['Drug Regimen']).std()\n",
    "sem = merge_df['Tumor Volume (mm3)'].groupby(merge_df['Drug Regimen']).sem()\n",
    "\n",
    "summary_stat = pd.DataFrame({\"Mean Tumor Volume\":mean, \n",
    "                            \"Median Tumor Volume\":median, \n",
    "                           \"Tumor Volume Variance\":var, \n",
    "                           \"Tumor Volume Std. Dev.\":std, \n",
    "                           \"Tumor Volume Std. Err.\":sem})\n",
    "# Assemble the resulting series into a single summary DataFrame.\n",
    "# Display the Summary statistics table grouped by 'Drug Regimen' column\n",
    "summary_stat"
   ]
  },
  {
   "cell_type": "code",
   "execution_count": null,
   "metadata": {},
   "outputs": [],
   "source": [
    "# A more advanced method to generate a summary statistics table of mean, median, variance, standard deviation,\n",
    "# and SEM of the tumor volume for each regimen (only one method is required in the solution)\n",
    "\n",
    "# Using the aggregation method, produce the same summary statistics in a single line\n",
    "summary_agg =  merge_df.groupby(['Drug Regimen'])[['Tumor Volume (mm3)']].agg(['mean', 'median', 'var', 'std', 'sem'])\n",
    "summary_agg"
   ]
  },
  {
   "cell_type": "markdown",
   "metadata": {},
   "source": [
    "## Bar and Pie Charts"
   ]
  },
  {
   "cell_type": "code",
   "execution_count": null,
   "metadata": {},
   "outputs": [],
   "source": [
    "# Generate a bar plot showing the total number of rows (Mouse ID/Timepoints) for each drug regimen using Pandas.\n",
    "total_timepoints = clean_mice[[\"Timepoint\", \"Drug Regimen\"]].groupby([\"Drug Regimen\"]).count()\n",
    "sorted_timepoints = total_timepoints.sort_values([\"Timepoint\"], ascending=False)\n",
    "\n",
    "# Plot bar chart using pandas\n",
    "timepoints_plot = sorted_timepoints.plot.bar()\n",
    "timepoints_plot.set_ylabel(\"Timepoint\")\n",
    "\n"
   ]
  },
  {
   "cell_type": "code",
   "execution_count": null,
   "metadata": {},
   "outputs": [],
   "source": [
    "# Generate a bar plot showing the total number of rows (Mouse ID/Timepoints) for each drug regimen using pyplot.\n",
    "plt.bar(sorted_timepoints.index, sorted_timepoints['Timepoint'], color='b', alpha=1, align='center')\n",
    "\n",
    "# Set axis labels\n",
    "plt.ylabel('Timepoints') \n",
    "plt.xlabel('Drug Regimen')\n",
    "plt.xticks(rotation='vertical')\n",
    "\n",
    "# Show plot using pyplot\n",
    "plt.show()"
   ]
  },
  {
   "cell_type": "code",
   "execution_count": null,
   "metadata": {},
   "outputs": [],
   "source": [
    "# Generate a pie chart, using Pandas, showing the distribution of unique female versus male mice used in the study\n",
    "# Get the unique mice with their gender\n",
    "gender_data = merge_df[\"Sex\"].value_counts()\n",
    "plt.title(\"\")\n",
    "gender_data.plot.pie(autopct= \"%1.1f%%\")\n",
    "\n",
    "# Make the pie chart\n",
    "plt.show()"
   ]
  },
  {
   "cell_type": "code",
   "execution_count": null,
   "metadata": {},
   "outputs": [],
   "source": [
    "# Generate a pie chart, using pyplot, showing the distribution of unique female versus male mice used in the study\n",
    "# Get the unique mice with their gender\n",
    "labels = ['Female', 'Male']\n",
    "sizes = [49.7999197, 50.200803]\n",
    "plot = gender_data.plot.pie(y='Total Count', autopct=\"%1.1f%%\")\n",
    "plt.title(\"\")\n",
    "plt.ylabel('Sex')\n",
    "\n",
    "# Make the pie chart\n",
    "plt.show()"
   ]
  },
  {
   "cell_type": "markdown",
   "metadata": {},
   "source": [
    "## Quartiles, Outliers and Boxplots"
   ]
  },
  {
   "cell_type": "code",
   "execution_count": null,
   "metadata": {},
   "outputs": [],
   "source": [
    "# Calculate the final tumor volume of each mouse across four of the treatment regimens:\n",
    "# Capomulin, Ramicane, Infubinol, and Ceftamin\n",
    "cap_df = merge_df.loc[merge_df[\"Drug Regimen\"] == \"Capomulin\",:]\n",
    "ram_df = merge_df.loc[merge_df[\"Drug Regimen\"] == \"Ramicane\", :]\n",
    "inf_df = merge_df.loc[merge_df[\"Drug Regimen\"] == \"Infubinol\", :]\n",
    "ceft_df = merge_df.loc[merge_df[\"Drug Regimen\"] == \"Ceftamin\", :]\n",
    "\n",
    "# Start by getting the last (greatest) timepoint for each mouse\n",
    "last_timepoint = merge_df.groupby([\"Mouse ID\"])[\"Timepoint\"].max()\n",
    "last_timepoint = last_timepoint.reset_index()"
   ]
  },
  {
   "cell_type": "code",
   "execution_count": null,
   "metadata": {},
   "outputs": [],
   "source": [
    "# Start by getting the last (greatest) timepoint for each mouse\n",
    "#Capomulin\n",
    "caplast = cap_df.groupby('Mouse ID').max()['Timepoint']\n",
    "caplastvol = pd.DataFrame(caplast)\n",
    "caplastmerge = pd.merge(caplastvol, merge_df, on=(\"Mouse ID\",\"Timepoint\"),how=\"left\")\n",
    "caplastmerge.head(5)"
   ]
  },
  {
   "cell_type": "code",
   "execution_count": null,
   "metadata": {},
   "outputs": [],
   "source": [
    "# Start by getting the last (greatest) timepoint for each mouse\n",
    "#Ramicane\n",
    "ramlast = ram_df.groupby('Mouse ID').max()['Timepoint']\n",
    "ramlastvol = pd.DataFrame(ramlast)\n",
    "ramlastmerge = pd.merge(ramlastvol, merge_df, on=(\"Mouse ID\",\"Timepoint\"),how=\"left\")\n",
    "ramlastmerge.head(5)"
   ]
  },
  {
   "cell_type": "code",
   "execution_count": null,
   "metadata": {},
   "outputs": [],
   "source": [
    "# Start by getting the last (greatest) timepoint for each mouse\n",
    "#Infubinol\n",
    "inflast = inf_df.groupby('Mouse ID').max()['Timepoint']\n",
    "inflastvol = pd.DataFrame(inflast)\n",
    "inflastmerge = pd.merge(inflastvol, merge_df, on=(\"Mouse ID\",\"Timepoint\"),how=\"left\")\n",
    "inflastmerge.head(5)"
   ]
  },
  {
   "cell_type": "code",
   "execution_count": null,
   "metadata": {},
   "outputs": [],
   "source": [
    "# Start by getting the last (greatest) timepoint for each mouse\n",
    "#Ceftamin\n",
    "ceftlast = ceft_df.groupby('Mouse ID').max()['Timepoint']\n",
    "ceftlastvol = pd.DataFrame(ceftlast)\n",
    "ceftlastmerge = pd.merge(ceftlastvol, merge_df, on=(\"Mouse ID\",\"Timepoint\"),how=\"left\")\n",
    "ceftlastmerge.head(5)"
   ]
  },
  {
   "cell_type": "code",
   "execution_count": null,
   "metadata": {},
   "outputs": [],
   "source": [
    "# Merge this group df with the original DataFrame to get the tumor volume at the last timepoint\n",
    "merged_data_lasttp = pd.merge(last_timepoint, merge_df, on=(\"Mouse ID\", \"Timepoint\"))\n",
    "merged_data_lasttp\n"
   ]
  },
  {
   "cell_type": "code",
   "execution_count": null,
   "metadata": {},
   "outputs": [],
   "source": [
    "# Put treatments into a list for for loop (and later for plot labels)\n",
    "treatments = [\"Capomulin\",\"Ramicane\",\"Infubinol\",\"Ceftamin\"]\n",
    "\n",
    "# Create empty list to fill with tumor vol data (for plotting)\n",
    "total_tumor_vol = []\n",
    "\n",
    "# Calculate the IQR and quantitatively determine if there are any potential outliers.\n",
    "for drug in treatments:\n",
    "\n",
    "    # Locate the rows which contain mice on each drug and get the tumor volumes\n",
    "    tumor_vol = merged_data_lasttp.loc[merged_data_lasttp[\"Drug Regimen\"] == drug, \"Tumor Volume (mm3)\"]\n",
    "\n",
    "    # add subset\n",
    "    total_tumor_vol.append(tumor_vol)\n",
    "\n",
    "    # Determine outliers using upper and lower bounds\n",
    "    quartiles = tumor_vol.quantile([.25, .5, .75])\n",
    "    lowerq = quartiles[.25]\n",
    "    upperq = quartiles[.75]\n",
    "    iqr = upperq - lowerq \n",
    "    \n",
    "    lower_bound = lowerq - (1.5*iqr)\n",
    "    upper_bound = upperq + (1.5*iqr)\n",
    "    outliers = tumor_vol.loc[(tumor_vol < lower_bound) | (tumor_vol > upper_bound)]\n",
    "    print(f\"{drug}, the outliers: {outliers}\")"
   ]
  },
  {
   "cell_type": "code",
   "execution_count": null,
   "metadata": {},
   "outputs": [],
   "source": [
    "# Generate a box plot that shows the distribution of the tumor volume for each treatment group.\n",
    "fig1, ax1 = plt.subplots(figsize=(6,5))\n",
    "ax1.set_title('',fontsize =8)\n",
    "ax1.set_ylabel('Final Tumor Volume (mm3)',fontsize = 8)\n",
    "ax1.set_xlabel('Drug Regimen',fontsize = 8)\n",
    "ax1.boxplot(total_tumor_vol, labels=treatments, widths = 0.4, patch_artist=True,vert=True)\n",
    "\n",
    "plt.show()"
   ]
  },
  {
   "cell_type": "markdown",
   "metadata": {},
   "source": [
    "## Line and Scatter Plots"
   ]
  },
  {
   "cell_type": "code",
   "execution_count": null,
   "metadata": {},
   "outputs": [],
   "source": [
    "# Generate a line plot of tumor volume vs. time point for a single mouse treated with Capomulin\n",
    "forline_df = cap_df.loc[cap_df[\"Mouse ID\"] == \"l509\",:]\n",
    "forline_df.head()\n",
    "# defined the x axis list by calling the timepoints from the l509 dataframe\n",
    "x_axisTP = forline_df[\"Timepoint\"] \n",
    "# defined the y axis or tumor size list by calling the tumor size from the dataframe\n",
    "tumsiz = forline_df[\"Tumor Volume (mm3)\"] \n",
    "\n",
    "# the plot function plt.plot() with x and y values and customizations\n",
    "plt.title('Capomulin treatmeant of mouse l509') # created title\n",
    "plt.plot(x_axisTP, tumsiz,linewidth=2, markersize=12) \n",
    "plt.xlabel('Timepoint (Days)')\n",
    "plt.ylabel('Tumor Volume (mm3)')\n",
    "\n",
    "plt.show()"
   ]
  },
  {
   "cell_type": "code",
   "execution_count": null,
   "metadata": {},
   "outputs": [],
   "source": [
    "# Generate a scatter plot of mouse weight vs. the average observed tumor volume for the entire Capomulin regimen\n",
    "capomulin_df = merge_df.loc[merge_df['Drug Regimen'] == 'Capomulin']\n",
    "\n",
    "# Find average tumor volume for each mouse\n",
    "\n",
    "avg_vol_df = pd.DataFrame(capomulin_df.groupby('Mouse ID')['Tumor Volume (mm3)'].mean().sort_values()).reset_index().rename(columns={'Tumor Volume (mm3)': 'avg_tumor_vol'})\n",
    "\n",
    "# Merge average tumor volume onto merge_df and drop duplicates\n",
    "avg_vol_df = pd.merge(capomulin_df, avg_vol_df, on='Mouse ID')\n",
    "final_avg_vol_df = avg_vol_df[['Weight (g)', 'avg_tumor_vol']].drop_duplicates()\n",
    "final_avg_vol_df\n",
    "\n",
    "x = final_avg_vol_df['Weight (g)']\n",
    "y = final_avg_vol_df['avg_tumor_vol']\n",
    "\n",
    "# Create a scatter plot based on new dataframe above with circle markers and listed colors\n",
    "plt.scatter(x, y)\n",
    "\n",
    "# Add labels and title to plot\n",
    "plt.xlabel(\"Weight (g)\")\n",
    "plt.ylabel(\"Average Tumor Volume (mm3)\")\n",
    "plt.title('')\n",
    "# Display plot\n",
    "plt.show()\n"
   ]
  },
  {
   "cell_type": "markdown",
   "metadata": {},
   "source": [
    "## Correlation and Regression"
   ]
  },
  {
   "cell_type": "code",
   "execution_count": null,
   "metadata": {},
   "outputs": [],
   "source": [
    "# Calculate the correlation coefficient and a linear regression model\n",
    "# for mouse weight and average observed tumor volume for the entire Capomulin regimen\n",
    "\n",
    "capomulin_df = merge_df.loc[merge_df['Drug Regimen'] == 'Capomulin']\n",
    "avg_vol_df = pd.DataFrame(capomulin_df.groupby('Mouse ID')['Tumor Volume (mm3)'].mean().sort_values()).reset_index().rename(columns={'Tumor Volume (mm3)': 'avg_tumor_vol'})\n",
    "avg_vol_df = pd.merge(capomulin_df, avg_vol_df, on='Mouse ID')\n",
    "final_avg_vol_df = avg_vol_df[['Weight (g)', 'avg_tumor_vol']].drop_duplicates()\n",
    "final_avg_vol_df\n",
    "x = final_avg_vol_df['Weight (g)']\n",
    "y = final_avg_vol_df['avg_tumor_vol']\n",
    "\n",
    "# Correlation coefficient between mouse weight and average tumor volume\n",
    "correlation = st.pearsonr(x,y)\n",
    "\n",
    "# Print the answer to above calculation\n",
    "print(f\"\"\"The correlation between weight and average tumor volume\n",
    "on the Capomulin regimen is {round(correlation[0],2)}.\"\"\")\n",
    "\n",
    "# Calculate linear regression\n",
    "(slope, intercept, rvalue, pvalue, stderr) = linregress(x, y)\n",
    "regress_values = x * slope + intercept\n",
    "line_eq = \"y = \" + str(round(slope,2)) + \"x + \" + str(round(intercept,2))\n",
    "\n",
    "# Plot linear regression on top of scatter plot\n",
    "plt.scatter(x,y)\n",
    "plt.plot(x,regress_values,\"r-\")\n",
    "\n",
    "# Add labels and title to plot\n",
    "plt.xlabel(\"Weight (g)\")\n",
    "plt.ylabel(\"Average Tumor Volume (mm3)\")\n",
    "plt.title('')\n",
    "plt.show()"
   ]
  }
 ],
 "metadata": {
  "anaconda-cloud": {},
  "kernelspec": {
   "display_name": "PythonData",
   "language": "python",
   "name": "python3"
  },
  "language_info": {
   "codemirror_mode": {
    "name": "ipython",
    "version": 3
   },
   "file_extension": ".py",
   "mimetype": "text/x-python",
   "name": "python",
   "nbconvert_exporter": "python",
   "pygments_lexer": "ipython3",
   "version": "3.11.7"
  }
 },
 "nbformat": 4,
 "nbformat_minor": 4
}
